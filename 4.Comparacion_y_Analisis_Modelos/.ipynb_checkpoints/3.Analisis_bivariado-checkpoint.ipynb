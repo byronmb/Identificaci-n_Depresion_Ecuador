{
 "cells": [
  {
   "cell_type": "code",
   "execution_count": 1,
   "id": "237269fd",
   "metadata": {},
   "outputs": [],
   "source": [
    "import pandas as pd"
   ]
  },
  {
   "cell_type": "code",
   "execution_count": 2,
   "id": "1b03cc98",
   "metadata": {},
   "outputs": [],
   "source": [
    "#Obtenemos el path de la carpeta principal para llamar a archivos guardados\n",
    "import os\n",
    "path = os.path.normpath(os.getcwd() + os.sep + os.pardir)"
   ]
  },
  {
   "cell_type": "code",
   "execution_count": 3,
   "id": "eae6064f",
   "metadata": {},
   "outputs": [
    {
     "data": {
      "text/html": [
       "<div>\n",
       "<style scoped>\n",
       "    .dataframe tbody tr th:only-of-type {\n",
       "        vertical-align: middle;\n",
       "    }\n",
       "\n",
       "    .dataframe tbody tr th {\n",
       "        vertical-align: top;\n",
       "    }\n",
       "\n",
       "    .dataframe thead th {\n",
       "        text-align: right;\n",
       "    }\n",
       "</style>\n",
       "<table border=\"1\" class=\"dataframe\">\n",
       "  <thead>\n",
       "    <tr style=\"text-align: right;\">\n",
       "      <th></th>\n",
       "      <th>id</th>\n",
       "      <th>date</th>\n",
       "      <th>time</th>\n",
       "      <th>tweet</th>\n",
       "      <th>tweet_token</th>\n",
       "      <th>geo</th>\n",
       "    </tr>\n",
       "  </thead>\n",
       "  <tbody>\n",
       "    <tr>\n",
       "      <th>0</th>\n",
       "      <td>1.339913e+18</td>\n",
       "      <td>2020-12-18</td>\n",
       "      <td>07:37:28</td>\n",
       "      <td>a veces es valido sentirse agobiada desesperad...</td>\n",
       "      <td>['vez', 'valer', 'sentirse', 'agobiada', 'dese...</td>\n",
       "      <td>-1.3695361279507605,-78.08139447223985,27.9857...</td>\n",
       "    </tr>\n",
       "    <tr>\n",
       "      <th>1</th>\n",
       "      <td>1.369100e+18</td>\n",
       "      <td>2021-03-08</td>\n",
       "      <td>20:35:50</td>\n",
       "      <td>estoy angustiado maldicion no se que hacer que...</td>\n",
       "      <td>['angustiado', 'maldicion', 'no', 'hacer', 'de...</td>\n",
       "      <td>-1.3695361279507605,-78.08139447223985,27.9857...</td>\n",
       "    </tr>\n",
       "    <tr>\n",
       "      <th>2</th>\n",
       "      <td>1.401985e+18</td>\n",
       "      <td>2021-06-07</td>\n",
       "      <td>14:32:44</td>\n",
       "      <td>cerre de nuevo mis redes no pude con tanta ans...</td>\n",
       "      <td>['cerre', 'nuevo', 'red', 'no', 'poder', 'tant...</td>\n",
       "      <td>-1.3695361279507605,-78.08139447223985,27.9857...</td>\n",
       "    </tr>\n",
       "    <tr>\n",
       "      <th>3</th>\n",
       "      <td>1.373680e+18</td>\n",
       "      <td>2021-03-21</td>\n",
       "      <td>11:56:55</td>\n",
       "      <td>la depresion las crisis de ansiedad y los ataq...</td>\n",
       "      <td>['depresion', 'crisis', 'ansiedad', 'ataque', ...</td>\n",
       "      <td>-1.3695361279507605,-78.08139447223985,27.9857...</td>\n",
       "    </tr>\n",
       "    <tr>\n",
       "      <th>4</th>\n",
       "      <td>1.368780e+18</td>\n",
       "      <td>2021-03-07</td>\n",
       "      <td>23:24:07</td>\n",
       "      <td>jajaja la ansiedad social no es algo nuevo muc...</td>\n",
       "      <td>['jajaja', 'ansiedad', 'social', 'no', 'nuevo'...</td>\n",
       "      <td>-1.3695361279507605,-78.08139447223985,27.9857...</td>\n",
       "    </tr>\n",
       "  </tbody>\n",
       "</table>\n",
       "</div>"
      ],
      "text/plain": [
       "             id        date      time  \\\n",
       "0  1.339913e+18  2020-12-18  07:37:28   \n",
       "1  1.369100e+18  2021-03-08  20:35:50   \n",
       "2  1.401985e+18  2021-06-07  14:32:44   \n",
       "3  1.373680e+18  2021-03-21  11:56:55   \n",
       "4  1.368780e+18  2021-03-07  23:24:07   \n",
       "\n",
       "                                               tweet  \\\n",
       "0  a veces es valido sentirse agobiada desesperad...   \n",
       "1  estoy angustiado maldicion no se que hacer que...   \n",
       "2  cerre de nuevo mis redes no pude con tanta ans...   \n",
       "3  la depresion las crisis de ansiedad y los ataq...   \n",
       "4  jajaja la ansiedad social no es algo nuevo muc...   \n",
       "\n",
       "                                         tweet_token  \\\n",
       "0  ['vez', 'valer', 'sentirse', 'agobiada', 'dese...   \n",
       "1  ['angustiado', 'maldicion', 'no', 'hacer', 'de...   \n",
       "2  ['cerre', 'nuevo', 'red', 'no', 'poder', 'tant...   \n",
       "3  ['depresion', 'crisis', 'ansiedad', 'ataque', ...   \n",
       "4  ['jajaja', 'ansiedad', 'social', 'no', 'nuevo'...   \n",
       "\n",
       "                                                 geo  \n",
       "0  -1.3695361279507605,-78.08139447223985,27.9857...  \n",
       "1  -1.3695361279507605,-78.08139447223985,27.9857...  \n",
       "2  -1.3695361279507605,-78.08139447223985,27.9857...  \n",
       "3  -1.3695361279507605,-78.08139447223985,27.9857...  \n",
       "4  -1.3695361279507605,-78.08139447223985,27.9857...  "
      ]
     },
     "execution_count": 3,
     "metadata": {},
     "output_type": "execute_result"
    }
   ],
   "source": [
    "#Datos depresivos en tiempos de covid\n",
    "tweets_2020_2021_df = pd.DataFrame(pd.read_excel(path+\"/2.Preprocesamiento/Dataset_depresivo_Limpio.xlsx\")) \n",
    "\n",
    "tweets_2020_2021_df.head()"
   ]
  },
  {
   "cell_type": "code",
   "execution_count": null,
   "id": "6319908c",
   "metadata": {},
   "outputs": [],
   "source": [
    "#POR FECHAS\n",
    "#por horas\n",
    "#Por localizacion (mapa de calor)\n"
   ]
  },
  {
   "cell_type": "code",
   "execution_count": 19,
   "id": "88cdecd9",
   "metadata": {},
   "outputs": [
    {
     "name": "stdout",
     "output_type": "stream",
     "text": [
      "ano  Int64Index([2020, 2021, 2021, 2021, 2021, 2021, 2021, 2021, 2021, 2020,\n",
      "            ...\n",
      "            2020, 2021, 2021, 2020, 2020, 2021, 2021, 2021, 2020, 2020],\n",
      "           dtype='int64', name='date', length=1654)\n",
      "mes  Int64Index([12,  3,  6,  3,  3,  2,  2,  1,  1, 11,\n",
      "            ...\n",
      "             4,  2,  1, 12,  3, 10,  4, 10, 10, 10],\n",
      "           dtype='int64', name='date', length=1654)\n"
     ]
    }
   ],
   "source": [
    "#print(tweets_2020_2021_df['date'].dt.year)\n",
    "anio=pd.DatetimeIndex(tweets_2020_2021_df['date']).year\n",
    "mes= pd.DatetimeIndex(tweets_2020_2021_df['date']).month\n",
    "print('ano ', anio)\n",
    "print('mes ', mes)\n"
   ]
  },
  {
   "cell_type": "code",
   "execution_count": 18,
   "id": "c60978b9",
   "metadata": {},
   "outputs": [
    {
     "name": "stdout",
     "output_type": "stream",
     "text": [
      "hora  Int64Index([ 7, 20, 14, 11, 23, 13, 20, 14, 18, 23,\n",
      "            ...\n",
      "            23, 11,  0, 23,  3, 16, 17, 22, 22,  8],\n",
      "           dtype='int64', name='time', length=1654)\n"
     ]
    }
   ],
   "source": [
    "hora=pd.DatetimeIndex(tweets_2020_2021_df['time']).hour\n",
    "#mes= pd.DatetimeIndex(tweets_2020_2021_df['date']).month\n",
    "print('hora ', hora)"
   ]
  },
  {
   "cell_type": "code",
   "execution_count": 47,
   "id": "c3f7ed87",
   "metadata": {},
   "outputs": [],
   "source": [
    "# OBTENER GEOCOORDENADAS\n",
    "tweets_2020_2021_df[['Lon', 'Lat', 'Rad']] = tweets_2020_2021_df['geo'].str.split(',', expand=True)\n",
    "#tweets_2020_2021_df['Coordenadas'].str.split(',', expand=True)\n",
    "tweets_2020_2021_df['Lon'] = (tweets_2020_2021_df.Lon).apply(lambda x: float(x))\n",
    "tweets_2020_2021_df['Lat'] = (tweets_2020_2021_df.Lat).apply(lambda x: float(x))\n",
    "#(tweets_2020_2021_df.Lon).apply(lambda x: float(x)) #convertimos latitud de string en float\n",
    "#(tweets_2020_2021_df.Lat).apply(lambda x: float(x))"
   ]
  },
  {
   "cell_type": "code",
   "execution_count": 39,
   "id": "b3b9f0dc",
   "metadata": {},
   "outputs": [],
   "source": [
    "\n",
    "#conda install -c conda-forge geopandas"
   ]
  },
  {
   "cell_type": "code",
   "execution_count": 52,
   "id": "efbd21c4",
   "metadata": {},
   "outputs": [],
   "source": [
    "#import matplotlib.pyplot as plt# presentar las graficas"
   ]
  },
  {
   "cell_type": "code",
   "execution_count": null,
   "id": "b0d3f4d3",
   "metadata": {},
   "outputs": [],
   "source": []
  },
  {
   "cell_type": "code",
   "execution_count": null,
   "id": "98f8f69c",
   "metadata": {},
   "outputs": [],
   "source": [
    "#AGRUPAR CANTIDAD DE TWEETS POR MES"
   ]
  },
  {
   "cell_type": "code",
   "execution_count": null,
   "id": "c2ca513e",
   "metadata": {},
   "outputs": [],
   "source": []
  }
 ],
 "metadata": {
  "kernelspec": {
   "display_name": "Python 3 (ipykernel)",
   "language": "python",
   "name": "python3"
  },
  "language_info": {
   "codemirror_mode": {
    "name": "ipython",
    "version": 3
   },
   "file_extension": ".py",
   "mimetype": "text/x-python",
   "name": "python",
   "nbconvert_exporter": "python",
   "pygments_lexer": "ipython3",
   "version": "3.8.13"
  }
 },
 "nbformat": 4,
 "nbformat_minor": 5
}
