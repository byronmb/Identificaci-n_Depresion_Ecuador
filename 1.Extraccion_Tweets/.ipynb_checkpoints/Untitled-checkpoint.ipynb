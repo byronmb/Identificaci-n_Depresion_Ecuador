{
 "cells": [
  {
   "cell_type": "code",
   "execution_count": 1,
   "id": "f79e779b",
   "metadata": {},
   "outputs": [],
   "source": [
    "import pandas as pd\n",
    "import numpy as np\n",
    "import re # para expresiones regulares\n",
    "import emoji #convertir emoticones a texto\n",
    "import nltk #tokenizar y stopwords"
   ]
  },
  {
   "cell_type": "code",
   "execution_count": 2,
   "id": "4bcaaf45",
   "metadata": {},
   "outputs": [],
   "source": [
    "tweets_depre_df = pd.DataFrame(pd.read_excel(\"Dataset_depresivo_inicial.xlsx\")) "
   ]
  },
  {
   "cell_type": "code",
   "execution_count": 3,
   "id": "78909cc4",
   "metadata": {},
   "outputs": [],
   "source": [
    "tweets_depre_df = tweets_depre_df.drop_duplicates(subset=['username','tweet'], keep=False)\n",
    "\n",
    "tweets_depre_df.to_excel(\"Dataset_depreDUPLI_AD.xlsx\", index=False)"
   ]
  },
  {
   "cell_type": "code",
   "execution_count": null,
   "id": "627a7ee6",
   "metadata": {},
   "outputs": [],
   "source": [
    "\n",
    "\n",
    "myList = [2, 1, 2, 3, 0, 6, 7, 6, 4, 8]\n",
    "\n",
    "resultantList = []\n",
    " \n",
    "for element in myList:\n",
    "    if element not in resultantList:\n",
    "        resultantList.append(element)\n",
    "\n",
    "print(resultantList)\n",
    "\n",
    "\n"
   ]
  }
 ],
 "metadata": {
  "kernelspec": {
   "display_name": "Python 3 (ipykernel)",
   "language": "python",
   "name": "python3"
  },
  "language_info": {
   "codemirror_mode": {
    "name": "ipython",
    "version": 3
   },
   "file_extension": ".py",
   "mimetype": "text/x-python",
   "name": "python",
   "nbconvert_exporter": "python",
   "pygments_lexer": "ipython3",
   "version": "3.8.13"
  }
 },
 "nbformat": 4,
 "nbformat_minor": 5
}
