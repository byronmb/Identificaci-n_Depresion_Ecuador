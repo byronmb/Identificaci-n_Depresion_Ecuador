{
 "cells": [
  {
   "cell_type": "code",
   "execution_count": 1,
   "id": "5dbcd961",
   "metadata": {},
   "outputs": [],
   "source": [
    "import pandas as pd\n",
    "import matplotlib.pyplot as plt\n",
    "import os #para obtener las rutas (path) \n",
    "from scipy import sparse # guardar matrices dispersas\n",
    "import warnings\n",
    "warnings.simplefilter(\"ignore\")"
   ]
  },
  {
   "cell_type": "code",
   "execution_count": 2,
   "id": "7e063ef3",
   "metadata": {},
   "outputs": [],
   "source": [
    "tweetsDF = pd.DataFrame(pd.read_excel(\"Dataset_depreDUPLI_ADFINAL.xlsx\")) "
   ]
  },
  {
   "cell_type": "code",
   "execution_count": 3,
   "id": "06286633",
   "metadata": {},
   "outputs": [],
   "source": [
    "tweetsDF['length'] = tweetsDF.reply_to.str.len()\n"
   ]
  },
  {
   "cell_type": "code",
   "execution_count": 9,
   "id": "071393a4",
   "metadata": {},
   "outputs": [
    {
     "data": {
      "text/plain": [
       "array(['[]', '[]',\n",
       "       \"[{'screen_name': 'Ivan_Coral_L', 'name': 'Iván Coral', 'id': '312186573'}]\",\n",
       "       ..., '[]', '[]', '[]'], dtype=object)"
      ]
     },
     "execution_count": 9,
     "metadata": {},
     "output_type": "execute_result"
    }
   ],
   "source": [
    "a\n",
    "#invoices.drop([1, 2],axis=0)"
   ]
  },
  {
   "cell_type": "code",
   "execution_count": null,
   "id": "4c1d5579",
   "metadata": {},
   "outputs": [],
   "source": []
  }
 ],
 "metadata": {
  "kernelspec": {
   "display_name": "Python 3 (ipykernel)",
   "language": "python",
   "name": "python3"
  },
  "language_info": {
   "codemirror_mode": {
    "name": "ipython",
    "version": 3
   },
   "file_extension": ".py",
   "mimetype": "text/x-python",
   "name": "python",
   "nbconvert_exporter": "python",
   "pygments_lexer": "ipython3",
   "version": "3.8.13"
  }
 },
 "nbformat": 4,
 "nbformat_minor": 5
}
