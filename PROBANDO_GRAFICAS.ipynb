{
 "cells": [
  {
   "cell_type": "code",
   "execution_count": 1,
   "id": "42219f24",
   "metadata": {},
   "outputs": [],
   "source": [
    "from sklearn.feature_extraction.text import TfidfVectorizer\n",
    "import pandas as pd\n",
    "import matplotlib.pyplot as plt\n",
    "import warnings\n",
    "warnings.simplefilter(\"ignore\")"
   ]
  },
  {
   "cell_type": "code",
   "execution_count": 2,
   "id": "66ee1a32",
   "metadata": {},
   "outputs": [
    {
     "data": {
      "text/html": [
       "<div>\n",
       "<style scoped>\n",
       "    .dataframe tbody tr th:only-of-type {\n",
       "        vertical-align: middle;\n",
       "    }\n",
       "\n",
       "    .dataframe tbody tr th {\n",
       "        vertical-align: top;\n",
       "    }\n",
       "\n",
       "    .dataframe thead th {\n",
       "        text-align: right;\n",
       "    }\n",
       "</style>\n",
       "<table border=\"1\" class=\"dataframe\">\n",
       "  <thead>\n",
       "    <tr style=\"text-align: right;\">\n",
       "      <th></th>\n",
       "      <th>tweet_token</th>\n",
       "      <th>sentimiento</th>\n",
       "    </tr>\n",
       "  </thead>\n",
       "  <tbody>\n",
       "    <tr>\n",
       "      <th>0</th>\n",
       "      <td>['vez', 'valer', 'sentirse', 'agobiada', 'dese...</td>\n",
       "      <td>1</td>\n",
       "    </tr>\n",
       "    <tr>\n",
       "      <th>1</th>\n",
       "      <td>['angustiado', 'maldicion', 'no', 'hacer', 'de...</td>\n",
       "      <td>1</td>\n",
       "    </tr>\n",
       "    <tr>\n",
       "      <th>2</th>\n",
       "      <td>['cerre', 'nuevo', 'red', 'no', 'poder', 'tant...</td>\n",
       "      <td>1</td>\n",
       "    </tr>\n",
       "    <tr>\n",
       "      <th>3</th>\n",
       "      <td>['depresion', 'crisis', 'ansiedad', 'ataque', ...</td>\n",
       "      <td>1</td>\n",
       "    </tr>\n",
       "    <tr>\n",
       "      <th>4</th>\n",
       "      <td>['jajaja', 'ansiedad', 'social', 'no', 'nuevo'...</td>\n",
       "      <td>1</td>\n",
       "    </tr>\n",
       "  </tbody>\n",
       "</table>\n",
       "</div>"
      ],
      "text/plain": [
       "                                         tweet_token  sentimiento\n",
       "0  ['vez', 'valer', 'sentirse', 'agobiada', 'dese...            1\n",
       "1  ['angustiado', 'maldicion', 'no', 'hacer', 'de...            1\n",
       "2  ['cerre', 'nuevo', 'red', 'no', 'poder', 'tant...            1\n",
       "3  ['depresion', 'crisis', 'ansiedad', 'ataque', ...            1\n",
       "4  ['jajaja', 'ansiedad', 'social', 'no', 'nuevo'...            1"
      ]
     },
     "execution_count": 2,
     "metadata": {},
     "output_type": "execute_result"
    }
   ],
   "source": [
    "#cargamos los datos\n",
    "tweets_depresivos_df = pd.DataFrame(pd.read_excel(\"Preprocesamiento/Dataset_depresivo_Limpio.xlsx\")) \n",
    "tweets_depresivos_df['sentimiento'] = 1 #tweets depresivos clasificados con 1\n",
    "\n",
    "tweets_random_df = pd.DataFrame(pd.read_excel(\"Preprocesamiento/Dataset_random_Limpio.xlsx\")) \n",
    "tweets_random_df['sentimiento'] = 0 #tweets depresivos clasificados con 0\n",
    "#unimos ambos datasets y solo con conservamos las caracteristicas que vamos a usar \n",
    "tweet_data_df = pd.concat([tweets_depresivos_df, tweets_random_df]).reset_index()[[\"tweet_token\", \"sentimiento\"]]\n",
    "tweet_data_df.head()"
   ]
  },
  {
   "cell_type": "code",
   "execution_count": 3,
   "id": "6b67c8be",
   "metadata": {},
   "outputs": [
    {
     "data": {
      "text/html": [
       "<div>\n",
       "<style scoped>\n",
       "    .dataframe tbody tr th:only-of-type {\n",
       "        vertical-align: middle;\n",
       "    }\n",
       "\n",
       "    .dataframe tbody tr th {\n",
       "        vertical-align: top;\n",
       "    }\n",
       "\n",
       "    .dataframe thead th {\n",
       "        text-align: right;\n",
       "    }\n",
       "</style>\n",
       "<table border=\"1\" class=\"dataframe\">\n",
       "  <thead>\n",
       "    <tr style=\"text-align: right;\">\n",
       "      <th></th>\n",
       "      <th>tweet_token</th>\n",
       "      <th>sentimiento</th>\n",
       "    </tr>\n",
       "  </thead>\n",
       "  <tbody>\n",
       "    <tr>\n",
       "      <th>0</th>\n",
       "      <td>['mañana', 'pierdo', 'batalla', 'depresion', '...</td>\n",
       "      <td>1</td>\n",
       "    </tr>\n",
       "    <tr>\n",
       "      <th>1</th>\n",
       "      <td>['ansiedad', 'desperto']</td>\n",
       "      <td>1</td>\n",
       "    </tr>\n",
       "    <tr>\n",
       "      <th>2</th>\n",
       "      <td>['ver', 'no', 'poder', 'hacer', 'uso', 'materi...</td>\n",
       "      <td>0</td>\n",
       "    </tr>\n",
       "    <tr>\n",
       "      <th>3</th>\n",
       "      <td>['no', 'necesitar', 'decirle', 'gente', 'enoja...</td>\n",
       "      <td>0</td>\n",
       "    </tr>\n",
       "    <tr>\n",
       "      <th>4</th>\n",
       "      <td>['preparado', 'yo', 'gustar', 'reto']</td>\n",
       "      <td>0</td>\n",
       "    </tr>\n",
       "    <tr>\n",
       "      <th>...</th>\n",
       "      <td>...</td>\n",
       "      <td>...</td>\n",
       "    </tr>\n",
       "    <tr>\n",
       "      <th>10992</th>\n",
       "      <td>['grande', 'cuento', 'hadas', 'notas_musical']</td>\n",
       "      <td>0</td>\n",
       "    </tr>\n",
       "    <tr>\n",
       "      <th>10993</th>\n",
       "      <td>['pretendo', 'engañar', 'fondo', 'decepcionada...</td>\n",
       "      <td>0</td>\n",
       "    </tr>\n",
       "    <tr>\n",
       "      <th>10994</th>\n",
       "      <td>['nunca', 'yo', 'tanto', 'desesperado']</td>\n",
       "      <td>1</td>\n",
       "    </tr>\n",
       "    <tr>\n",
       "      <th>10995</th>\n",
       "      <td>['depresion', 'celular', 'bateria', 'descompue...</td>\n",
       "      <td>1</td>\n",
       "    </tr>\n",
       "    <tr>\n",
       "      <th>10996</th>\n",
       "      <td>['ay', 'impulsivo', 'no', 'cague', 'ex', 'papa...</td>\n",
       "      <td>0</td>\n",
       "    </tr>\n",
       "  </tbody>\n",
       "</table>\n",
       "<p>10997 rows × 2 columns</p>\n",
       "</div>"
      ],
      "text/plain": [
       "                                             tweet_token  sentimiento\n",
       "0      ['mañana', 'pierdo', 'batalla', 'depresion', '...            1\n",
       "1                               ['ansiedad', 'desperto']            1\n",
       "2      ['ver', 'no', 'poder', 'hacer', 'uso', 'materi...            0\n",
       "3      ['no', 'necesitar', 'decirle', 'gente', 'enoja...            0\n",
       "4                  ['preparado', 'yo', 'gustar', 'reto']            0\n",
       "...                                                  ...          ...\n",
       "10992     ['grande', 'cuento', 'hadas', 'notas_musical']            0\n",
       "10993  ['pretendo', 'engañar', 'fondo', 'decepcionada...            0\n",
       "10994            ['nunca', 'yo', 'tanto', 'desesperado']            1\n",
       "10995  ['depresion', 'celular', 'bateria', 'descompue...            1\n",
       "10996  ['ay', 'impulsivo', 'no', 'cague', 'ex', 'papa...            0\n",
       "\n",
       "[10997 rows x 2 columns]"
      ]
     },
     "execution_count": 3,
     "metadata": {},
     "output_type": "execute_result"
    }
   ],
   "source": [
    "tweet_data_df = tweet_data_df.sample(frac=1).reset_index()[[\"tweet_token\", \"sentimiento\"]]\n",
    "tweet_data_df"
   ]
  },
  {
   "cell_type": "markdown",
   "id": "b66f50b2",
   "metadata": {},
   "source": [
    "## gfrafica"
   ]
  },
  {
   "cell_type": "code",
   "execution_count": 5,
   "id": "dca93ef2",
   "metadata": {},
   "outputs": [],
   "source": [
    "\n",
    "import os\n",
    "import numpy as np\n",
    "import matplotlib.pyplot as plt"
   ]
  },
  {
   "cell_type": "code",
   "execution_count": 64,
   "id": "c7511fc2",
   "metadata": {},
   "outputs": [
    {
     "data": {
      "image/png": "[encoded data removed]",
      "text/plain": [
       "<Figure size 432x288 with 1 Axes>"
      ]
     },
     "metadata": {
      "needs_background": "dark"
     },
     "output_type": "display_data"
    },
    {
     "data": {
      "text/plain": [
       "<Figure size 1296x1296 with 0 Axes>"
      ]
     },
     "metadata": {},
     "output_type": "display_data"
    }
   ],
   "source": [
    "f, ax = plt.subplots()#(figsize = (12,6))\n",
    "\n",
    "col_map = plt.get_cmap('tab10') # color barras\n",
    "tweet_data_df[['sentimiento']].value_counts().plot.bar(color=col_map.colors) \n",
    "# Create bars with different colors\n",
    "labels = ['Aleatorio', 'Depresivo'] \n",
    "ax.set_ylabel('# Tweets')\n",
    "ax.set_xlabel('Sentimiento')\n",
    "#ax.set_title('clases')\n",
    "plt.xticks(ax.get_xticks(), labels, rotation=50)  \n",
    "ax.xaxis.label.set_color('white')\n",
    "ax.yaxis.label.set_color('white')\n",
    "ax.tick_params(axis='both', colors='white')\n",
    "\n",
    "for p in ax.patches: #añdir la cantidad en las barras\n",
    "    ax.annotate(\n",
    "        p.get_height(), xy=(p.get_x() + 0.13, p.get_height() - 500), fontsize=15\n",
    "    )\n",
    "\n",
    "plt.show()\n"
   ]
  }
 ],
 "metadata": {
  "kernelspec": {
   "display_name": "Python 3 (ipykernel)",
   "language": "python",
   "name": "python3"
  },
  "language_info": {
   "codemirror_mode": {
    "name": "ipython",
    "version": 3
   },
   "file_extension": ".py",
   "mimetype": "text/x-python",
   "name": "python",
   "nbconvert_exporter": "python",
   "pygments_lexer": "ipython3",
   "version": "3.8.13"
  }
 },
 "nbformat": 4,
 "nbformat_minor": 5
}
